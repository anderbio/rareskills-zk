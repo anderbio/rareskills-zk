{
 "cells": [
  {
   "cell_type": "code",
   "execution_count": 13,
   "metadata": {},
   "outputs": [
    {
     "name": "stdout",
     "output_type": "stream",
     "text": [
      "Defaulting to user installation because normal site-packages is not writeable\n",
      "Requirement already satisfied: galois in /Users/andreylee/Library/Python/3.9/lib/python/site-packages (0.4.4)\n",
      "Requirement already satisfied: numpy>=1.21.0 in /Users/andreylee/Library/Python/3.9/lib/python/site-packages (from galois) (2.0.2)\n",
      "Requirement already satisfied: numba<0.62,>=0.55 in /Users/andreylee/Library/Python/3.9/lib/python/site-packages (from galois) (0.60.0)\n",
      "Requirement already satisfied: typing-extensions>=4.0.0 in /Users/andreylee/Library/Python/3.9/lib/python/site-packages (from galois) (4.12.2)\n",
      "Requirement already satisfied: llvmlite<0.44,>=0.43.0dev0 in /Users/andreylee/Library/Python/3.9/lib/python/site-packages (from numba<0.62,>=0.55->galois) (0.43.0)\n",
      "\n",
      "\u001b[1m[\u001b[0m\u001b[34;49mnotice\u001b[0m\u001b[1;39;49m]\u001b[0m\u001b[39;49m A new release of pip is available: \u001b[0m\u001b[31;49m24.3.1\u001b[0m\u001b[39;49m -> \u001b[0m\u001b[32;49m25.0\u001b[0m\n",
      "\u001b[1m[\u001b[0m\u001b[34;49mnotice\u001b[0m\u001b[1;39;49m]\u001b[0m\u001b[39;49m To update, run: \u001b[0m\u001b[32;49m/Library/Developer/CommandLineTools/usr/bin/python3 -m pip install --upgrade pip\u001b[0m\n",
      "Note: you may need to restart the kernel to use updated packages.\n"
     ]
    }
   ],
   "source": [
    "%pip install galois\n",
    "import galois\n",
    "import numpy as np\n",
    "\n",
    "p=71"
   ]
  },
  {
   "cell_type": "code",
   "execution_count": 4,
   "metadata": {},
   "outputs": [
    {
     "name": "stdout",
     "output_type": "stream",
     "text": [
      "66\n",
      "57\n"
     ]
    }
   ],
   "source": [
    "print (-5 % p)\n",
    "print(pow(5, -1, p))"
   ]
  },
  {
   "cell_type": "code",
   "execution_count": 5,
   "metadata": {},
   "outputs": [
    {
     "name": "stdout",
     "output_type": "stream",
     "text": [
      "70\n",
      "67\n",
      "53\n",
      "3\n"
     ]
    }
   ],
   "source": [
    "## Problem 1\n",
    "\n",
    "#Find the elements in a finite field that are congruent to the following values:\n",
    "\n",
    "#  -1\n",
    "#  -4\n",
    "#  -160\n",
    "#  500\n",
    "\n",
    "print(-1 % p)\n",
    "print(-4 % p)\n",
    "print(-160 % p)\n",
    "print(500 % p)"
   ]
  },
  {
   "cell_type": "code",
   "execution_count": 13,
   "metadata": {},
   "outputs": [
    {
     "name": "stdout",
     "output_type": "stream",
     "text": [
      "60 66 55\n",
      "55\n",
      "True\n"
     ]
    }
   ],
   "source": [
    "## Problem 2\n",
    "\n",
    "# Find the elements that are congruent to a = 5/6, b = 11/12, and c = 21/12\n",
    "\n",
    "# Verify your answer by checking that a + b = c (in the finite field)\n",
    "\n",
    "a = 5 * pow(6, -1, p) % p\n",
    "b = 11 * pow(12, -1, p) % p\n",
    "c = 21 * pow(12, -1, p) % p\n",
    "print(a, b, c)\n",
    "\n",
    "print((a + b) % p)\n",
    "print((a + b) % p == c)\n",
    "\n"
   ]
  },
  {
   "cell_type": "code",
   "execution_count": 14,
   "metadata": {},
   "outputs": [
    {
     "name": "stdout",
     "output_type": "stream",
     "text": [
      "48 36 24\n",
      "24\n",
      "True\n"
     ]
    }
   ],
   "source": [
    "## Problem 3\n",
    "\n",
    "# Find the elements that are congruent to a = 2/3, b = 1/2, and c = 1/3.\n",
    "\n",
    "# Verify your answer by checking that a * b = c (in the finite field)\n",
    "\n",
    "a = 2 * pow(3, -1, p) % p\n",
    "b = 1 * pow(2, -1, p) % p\n",
    "c = 1 * pow(3, -1, p) % p\n",
    "print(a, b, c)\n",
    "\n",
    "print((a * b) % p)\n",
    "print((a * b) % p == c)"
   ]
  },
  {
   "cell_type": "markdown",
   "metadata": {},
   "source": [
    "## Problem 4\n",
    "\n",
    "The inverse of a 2 x 2 matrix $A$ is\n",
    "\n",
    "$$\n",
    "A^{-1}=\\frac{1}{\\text{det}}\\begin{bmatrix}d & -b\\\\-c & a\\end{bmatrix}\n",
    "$$\n",
    "\n",
    "where $A$ is\n",
    "\n",
    "$$\n",
    "A = \\begin{bmatrix}a & b\\\\c & d\\end{bmatrix}\n",
    "$$\n",
    " \n",
    "And the determinant det is\n",
    "\n",
    "$$\n",
    "\\text{det}=a \\times d-b\\times c\n",
    "$$\n",
    "\n",
    "Compute the inverse of the following matrix in the finite field:\n",
    "\n",
    "$$\n",
    "\\begin{bmatrix}1 & 1\\\\1 & 4\\end{bmatrix}\n",
    "$$\n",
    "\n",
    "Verify your answer by checking that\n",
    "\n",
    "$$\n",
    "AA^{-1}=I\n",
    "$$\n",
    "\n",
    "Where $I$ is the identity matrix."
   ]
  },
  {
   "cell_type": "code",
   "execution_count": 38,
   "metadata": {},
   "outputs": [
    {
     "name": "stdout",
     "output_type": "stream",
     "text": [
      "[[1 1]\n",
      " [1 4]]\n",
      "3\n",
      "4 70 70 1\n",
      "det_inv: 24\n",
      "[[  96 1680]\n",
      " [1680   24]]\n",
      "A_inv_mod:\n",
      " [[25 47]\n",
      " [47 24]]\n",
      "A @ A_inv_mod:\n",
      " [[1 0]\n",
      " [0 1]]\n"
     ]
    }
   ],
   "source": [
    "\n",
    "a = 1\n",
    "b = 1\n",
    "c = 1\n",
    "d = 4\n",
    "A = np.array([[a, b], [c, d]])\n",
    "print(A)\n",
    "\n",
    "det = a * d - b * c\n",
    "print(det)\n",
    "\n",
    "a_inv = d\n",
    "b_inv = -b % p\n",
    "c_inv = -c % p\n",
    "d_inv = a\n",
    "print(a_inv, b_inv, c_inv, d_inv)\n",
    "det_inv = pow(det, -1, p)\n",
    "print('det_inv:', det_inv)\n",
    "A_inv = det_inv * np.array([[a_inv, b_inv], [c_inv, d_inv]])\n",
    "print(A_inv)\n",
    "A_inv_mod = A_inv % p\n",
    "print('A_inv_mod:\\n', A_inv_mod)\n",
    "\n",
    "print('A @ A_inv_mod:\\n', (A @ A_inv_mod) % p)\n"
   ]
  },
  {
   "cell_type": "code",
   "execution_count": 41,
   "metadata": {},
   "outputs": [
    {
     "name": "stdout",
     "output_type": "stream",
     "text": [
      "15\n",
      "12\n"
     ]
    }
   ],
   "source": [
    "## Problem 5\n",
    "\n",
    "# What is the modular square root of 12?\n",
    "\n",
    "# Verify your answer by checking that x * x = 12 (mod 71)\n",
    "\n",
    "# Use brute force to find the answer (in Python)\n",
    "\n",
    "for x in range(p):\n",
    "    if (x * x) % p == 12:\n",
    "        r = x\n",
    "        break\n",
    "print(r)\n",
    "print((r * r) % p)\n"
   ]
  },
  {
   "cell_type": "markdown",
   "metadata": {},
   "source": [
    "## Problem 6\n",
    "\n",
    "Suppose we have the following polynomials:\n",
    "\n",
    "$$\n",
    "p(x)=52x^2+24x+61\\\\q(x)=40x^2+40x+58\n",
    "$$\n",
    "\n",
    "What is p(x) + q(x)? What is p(x) * q(x)?\n",
    "\n",
    "Use the `galois` library in Python to find the roots of p(x) and q(x).\n",
    "\n",
    "What are the roots of p(x)q(x)?"
   ]
  },
  {
   "cell_type": "code",
   "execution_count": 28,
   "metadata": {},
   "outputs": [
    {
     "name": "stdout",
     "output_type": "stream",
     "text": [
      "21x^2 + 64x + 48\n",
      "[21 58 26 69 59]\n",
      "ppqq: 21x^4 + 58x^3 + 26x^2 + 69x + 59\n",
      "pp.roots(): [34 42]\n",
      "qq.roots(): []\n",
      "ppqq.roots(): [34 42] []\n"
     ]
    }
   ],
   "source": [
    "GF = galois.GF(p)\n",
    "# pp = GF([52, 24, 61])\n",
    "pp = galois.Poly([52, 24, 61], field=GF)\n",
    "qq = galois.Poly([40, 40, 58], field=GF)\n",
    "print(pp + qq)\n",
    "\n",
    "# 2080 x^4 + 3040 x^3 + 6416 x^2 + 3832 x + 3538\n",
    "vec = np.array([2080, 3040, 6416, 3832, 3538])\n",
    "vec_mod = vec % p\n",
    "print(vec_mod)\n",
    "\n",
    "ppqq = pp * qq\n",
    "print('ppqq:', ppqq)\n",
    "\n",
    "ppr = pp.roots()\n",
    "qqr = qq.roots()\n",
    "print('pp.roots():', ppr)\n",
    "print('qq.roots():', qqr)\n",
    "\n",
    "print('ppqq.roots():', ppr, qqr)\n",
    "\n",
    "\n",
    "\n"
   ]
  },
  {
   "cell_type": "code",
   "execution_count": 33,
   "metadata": {},
   "outputs": [
    {
     "name": "stdout",
     "output_type": "stream",
     "text": [
      "12 37\n",
      "(a * 10 + b) % p: 15\n",
      "(a * 23 + b) % p: 29\n"
     ]
    }
   ],
   "source": [
    "## Problem 7\n",
    "\n",
    "# Find a polynomial f(x) that crosses the points (10, 15), (23, 29).\n",
    "\n",
    "# Since these are two points, the polynomial will be of degree 1 and be the equation for a line (y = ax + b).\n",
    "\n",
    "# Verify your answer by checking that f(10) = 15 and f(23) = 29.\n",
    "\n",
    "a = (29 - 15) *  pow(23 - 10, -1, p) % p\n",
    "b = (15 - a * 10) % p\n",
    "print(a, b)\n",
    "\n",
    "print('(a * 10 + b) % p:', (a * 10 + b) % p)\n",
    "print('(a * 23 + b) % p:', (a * 23 + b) % p)\n"
   ]
  },
  {
   "cell_type": "code",
   "execution_count": 35,
   "metadata": {},
   "outputs": [
    {
     "name": "stdout",
     "output_type": "stream",
     "text": [
      "70x^2 + 2x + 1\n",
      "1 2 1\n"
     ]
    }
   ],
   "source": [
    "## Problem 8\n",
    "\n",
    "# What is Lagrange interpolation and what does it do?\n",
    "\n",
    "# Find a polynomial that crosses through the points (0, 1), (1, 2), (2, 1).\n",
    "\n",
    "# Use this Stackoverflow answer as a starting point: https://stackoverflow.com/a/73434775\n",
    "\n",
    "GF = galois.GF(p)\n",
    "\n",
    "x = GF([0, 1, 2])\n",
    "y = GF([1, 2, 1])\n",
    "\n",
    "f = galois.lagrange_poly(x, y)\n",
    "print(f)\n",
    "\n",
    "print(f(0), f(1), f(2))\n",
    "\n",
    "\n"
   ]
  }
 ],
 "metadata": {
  "kernelspec": {
   "display_name": "Python 3",
   "language": "python",
   "name": "python3"
  },
  "language_info": {
   "codemirror_mode": {
    "name": "ipython",
    "version": 3
   },
   "file_extension": ".py",
   "mimetype": "text/x-python",
   "name": "python",
   "nbconvert_exporter": "python",
   "pygments_lexer": "ipython3",
   "version": "3.9.6"
  }
 },
 "nbformat": 4,
 "nbformat_minor": 2
}
