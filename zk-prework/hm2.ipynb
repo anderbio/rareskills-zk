{
 "cells": [
  {
   "cell_type": "markdown",
   "metadata": {
    "vscode": {
     "languageId": "latex"
    }
   },
   "source": [
    "# Exercise 1: Definition of Rational Numbers\n",
    "\n",
    "Assume you have a proper definition for integers. Create a well-defined set of rational numbers.\n",
    "\n",
    "### Solution in LaTeX:\n",
    "For any integers $a, b \\in \\mathbb{Z}$ ($\\mathbb{Z}$ is the set of integers), where $b \\ne 0$, we define a set $\\mathbb{Q}$ of rational numbers as follows:\n",
    "$r \\in \\mathbb{Q}$ if $r = \\frac{a}{b}$\n",
    "\n",
    "\n",
    "\n",
    "\n",
    "\n",
    "\n",
    "\n",
    "\n"
   ]
  },
  {
   "cell_type": "markdown",
   "metadata": {},
   "source": [
    "## Exercise2: Define the subset relationship between integers, rational numbers, real numbers, and complex numbers.\n",
    "\n",
    "### Solution:\n",
    "\n",
    "$\\mathbb{Z} \\subset \\mathbb{Q} \\subset \\mathbb{R} \\subset \\mathbb{C}$\n"
   ]
  },
  {
   "cell_type": "markdown",
   "metadata": {},
   "source": [
    "##  Exercise3: Define the relationship between the set of transcendental numbers and the set of complex numbers in terms of subsets. Is it a proper subset?\n",
    "\n",
    "### Solution:\n",
    "\n",
    "$\\mathbb{T} \\subset \\mathbb{C}$\n",
    "\n",
    "$\\mathbb{T}$ is a proper subset of $\\mathbb{C}$ because there are complex numbers that are not transcendental. For example, $i$ is a complex number that is not transcendental since it is the solution to the equation $x^2 + 1 = 0$.\n",
    "\n"
   ]
  },
  {
   "cell_type": "markdown",
   "metadata": {},
   "source": [
    "## Exercise4: Using the formal definition of equality above, argue that if two finite sets have different cardinality, they cannot be equal. (Demonstrating this for infinite sets is a little trickier, so we skip that).\n",
    "\n",
    "### Solution:\n",
    "\n",
    "If two finite sets have different cardinality, they cannot be equal. This is because the cardinality of a set is the number of elements in the set, and if two sets have different numbers of elements, they cannot be the same set.\n",
    "Let $A$ and $B$ be two finite sets with different cardinality. Without loss of generality, let $|A| > |B|$. Then there can be 2 cases:\n",
    "\n",
    "1. $B \\subset A$, then there exists an extra element $a \\in A$ such that $a \\notin B$. Therefore, $A$ and $B$ are not equal.\n",
    "2. $B \\not\\subset A$, then by definition there exists an element $b \\in B$ such that $b \\notin A$. Therefore, $A$ and $B$ are not equal.\n",
    "\n",
    "\n"
   ]
  },
  {
   "cell_type": "markdown",
   "metadata": {},
   "source": [
    "## Exercise 5: Compute the Cartesian product of \n",
    " using the definitions.\n",
    " $A = \\{1, 2, 3\\}$\n",
    " $B = \\{x, y, z\\}$\n",
    "\n",
    "### Solution:\n",
    "\n",
    "$B \\times A = \\{(x, 1), (x, 2), (x, 3), (y, 1), (y, 2), (y, 3), (z, 1), (z, 2), (z, 3)\\}$\n"
   ]
  },
  {
   "cell_type": "markdown",
   "metadata": {},
   "source": [
    "## Exercise6: Define a mapping (function) from integers {1, 2, 3, 4, 5, 6} to the set {even, odd}.\n",
    "\n",
    "### Solution:\n",
    "using table notation:\n",
    "\n",
    "|   |odd|even|\n",
    "|---|---|---|\n",
    "| 1 |(1, odd)| x |\n",
    "| 2 | x |(2, even)|\n",
    "| 3 |(3, odd)| x |\n",
    "| 4 | x |(4, even)|\n",
    "| 5 |(5, odd)| x |\n",
    "| 6 | x |(6, even)|\n",
    "\n",
    "\n",
    "\n"
   ]
  },
  {
   "cell_type": "markdown",
   "metadata": {},
   "source": [
    "## Exercise7: Take the Cartesian product of the polygons {triangle, square, pentagon, hexagon, heptagon, octagon} and the set of integers {0, 1, 2, 3, 4, 5, 6, 7, 8}. Define a mapping such that the polygon maps to an integer representing the number of sides. For example, the ordered pair (square, 4) should be in the subset, but (triangle, 7) should not be in the subset of the Cartesian product.\n",
    "\n",
    "### Solution:\n",
    "using table notation:\n",
    "\n",
    "|   |0|1|2|3|4|5|6|7|8|\n",
    "|---|---|---|---|---|---|---|---|---|---|\n",
    "|triangle| x | x | x | (triangle, 3) | x | x | x | x | x |\n",
    "|square| x | x | x | x | (square, 4) | x | x | x | x |\n",
    "|pentagon| x | x | x | x | x | (pentagon, 5) | x | x | x |\n",
    "|hexagon| x | x | x | x | x | x | (hexagon, 6) | x | x |\n",
    "|heptagon| x | x | x | x | x | x | x | (heptagon, 7) | x |\n",
    "|octagon| x | x | x | x | x | x | x | x | (octagon, 8) |\n",
    "\n"
   ]
  },
  {
   "cell_type": "markdown",
   "metadata": {},
   "source": [
    "## Exercise8: Define a mapping between positive integers and positive rational numbers (not the whole thing, obviously). It is possible to perfectly map the integers to rational numbers. Hint: draw a table to construct rational numbers where the columns are the numerators and the rows are the denominators. Struggle with this for at least 15 minutes before looking up the answer.\n",
    "\n",
    "### Solution:\n",
    "\n",
    "Set of positive integers $\\mathbb{N}$\n",
    "\n",
    "|1|2|3|4|5|6|7|8|9|10|...|\n",
    "|---|---|---|---|---|---|---|---|---|---|---|\n",
    "\n",
    "\n",
    "Set of positive rational numbers $\\mathbb{Q}$\n",
    "| |1|2|3|4|5|6|7|8|9|10|...|\n",
    "|---|---|---|---|---|---|---|---|---|---|---|---|\n",
    "|1|1/1|1/2|1/3|1/4|1/5|1/6|1/7|1/8|1/9|1/10|...|\n",
    "|2|2/1|2/2|2/3|2/4|2/5|2/6|2/7|2/8|2/9|2/10|...|\n",
    "|3|3/1|3/2|3/3|3/4|3/5|3/6|3/7|3/8|3/9|3/10|...|\n",
    "|4|4/1|4/2|4/3|4/4|4/5|4/6|4/7|4/8|4/9|4/10|...|\n",
    "|5|5/1|5/2|5/3|5/4|5/5|5/6|5/7|5/8|5/9|5/10|...|\n",
    "|6|6/1|6/2|6/3|6/4|6/5|6/6|6/7|6/8|6/9|6/10|...|\n",
    "|7|7/1|7/2|7/3|7/4|7/5|7/6|7/7|7/8|7/9|7/10|...|\n",
    "|8|8/1|8/2|8/3|8/4|8/5|8/6|8/7|8/8|8/9|8/10|...|\n",
    "|9|9/1|9/2|9/3|9/4|9/5|9/6|9/7|9/8|9/9|9/10|...|\n",
    "|10|10/1|10/2|10/3|10/4|10/5|10/6|10/7|10/8|10/9|10/10|...|\n",
    "|...|...|...|...|...|...|...|...|...|...|...|...|\n",
    "\n",
    "\n",
    "Mapping function $f: \\mathbb{Q} \\to \\mathbb{N}$\n",
    "\n",
    "|1 -> 1,1\n",
    "|2 -> 1,2\n",
    "|3 -> 2,1\n",
    "|4 -> 1,3\n",
    "|5 -> 2,2\n",
    "|6 -> 3,1\n",
    "|7 -> 1,4\n",
    "|8 -> 2,3\n",
    "|9 -> 3,2\n",
    "|10 -> 4,1\n",
    "|... -> ...\n",
    "\n",
    "\n",
    "\n",
    "\n",
    "\n"
   ]
  },
  {
   "cell_type": "markdown",
   "metadata": {},
   "source": [
    "## Exercise9: Pick a subset of ordered pairs that defines a * b (mod 3).\n",
    "\n",
    "### Solution:\n",
    "\n",
    "|  | 0 | 1 | 2 | 3 |\n",
    "|---|---|---|---|---|\n",
    "| 0 | 0 | 0 | 0 | 0 |\n",
    "| 1 | 0 | 1 | 2 | 0 |\n",
    "| 2 | 0 | 2 | 1 | 0 |\n",
    "| 3 | 0 | 0 | 0 | 0 |\n",
    "\n"
   ]
  },
  {
   "cell_type": "markdown",
   "metadata": {},
   "source": [
    "## Exercise10: Define our set $\\mathbb{A}$ to be the numbers $\\{0, 1, 2, 3, 4\\}$ and our binary operator to be subtraction modulo 5. Define all the ordered pairs of $\\mathbb{A} \\times \\mathbb{A}$ in a table, then map that set of ordered pairs to $\\mathbb{A}$.\n",
    "\n",
    "### Solution:\n",
    "\n",
    "|  | 0 | 1 | 2 | 3 | 4 |\n",
    "|---|---|---|---|---|---|\n",
    "| 0 | 0 | 4 | 3 | 2 | 1 |\n",
    "| 1 | 1 | 0 | 4 | 3 | 2 |\n",
    "| 2 | 2 | 1 | 0 | 4 | 3 |\n",
    "| 3 | 3 | 2 | 1 | 0 | 4 |\n",
    "| 4 | 4 | 3 | 2 | 1 | 0 |\n",
    "\n",
    "\n"
   ]
  }
 ],
 "metadata": {
  "kernelspec": {
   "display_name": "Python 3",
   "language": "python",
   "name": "python3"
  },
  "language_info": {
   "codemirror_mode": {
    "name": "ipython",
    "version": 3
   },
   "file_extension": ".py",
   "mimetype": "text/x-python",
   "name": "python",
   "nbconvert_exporter": "python",
   "pygments_lexer": "ipython3",
   "version": "3.9.6"
  }
 },
 "nbformat": 4,
 "nbformat_minor": 2
}
